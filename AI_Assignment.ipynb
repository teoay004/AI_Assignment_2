{
  "nbformat": 4,
  "nbformat_minor": 0,
  "metadata": {
    "colab": {
      "name": "AI Assignment.ipynb",
      "provenance": [],
      "collapsed_sections": [],
      "include_colab_link": true
    },
    "kernelspec": {
      "name": "python3",
      "display_name": "Python 3"
    },
    "language_info": {
      "name": "python"
    }
  },
  "cells": [
    {
      "cell_type": "markdown",
      "metadata": {
        "id": "view-in-github",
        "colab_type": "text"
      },
      "source": [
        "<a href=\"https://colab.research.google.com/github/teoay004/AI_Assignment_2/blob/main/AI_Assignment.ipynb\" target=\"_parent\"><img src=\"https://colab.research.google.com/assets/colab-badge.svg\" alt=\"Open In Colab\"/></a>"
      ]
    },
    {
      "cell_type": "code",
      "metadata": {
        "id": "fi8cQuhNKful"
      },
      "source": [
        "import pandas as pd\n",
        "import seaborn as sns\n",
        "import numpy as np\n",
        "import matplotlib.pyplot as plt"
      ],
      "execution_count": null,
      "outputs": []
    },
    {
      "cell_type": "code",
      "metadata": {
        "id": "-EOPwuhCKkC4"
      },
      "source": [
        "# mount Google Drive. You could also mount Google Drive using the Files tab on the left.\n",
        "try:\n",
        "    from google.colab import drive\n",
        "    drive.mount('/content/drive')\n",
        "except ModuleNotFoundError:\n",
        "    pass # we're not using Google Colab"
      ],
      "execution_count": null,
      "outputs": []
    },
    {
      "cell_type": "code",
      "metadata": {
        "id": "gSadxBaFKmj-"
      },
      "source": [
        "# use your own directory\n",
        "df_train = pd.read_csv (\"/content/drive/MyDrive/2021 S2 unisa/2021 AI/Assignment/train.csv\")\n",
        "df_train.head()"
      ],
      "execution_count": null,
      "outputs": []
    },
    {
      "cell_type": "code",
      "metadata": {
        "id": "HjCIB6pBK07O"
      },
      "source": [
        "X = df_train.drop(columns='satisfaction')\n",
        "y = df_train['satisfaction']"
      ],
      "execution_count": null,
      "outputs": []
    },
    {
      "cell_type": "markdown",
      "metadata": {
        "id": "ofOf8CHkK21Z"
      },
      "source": [
        "Task 1.1a Understanding the Data\n"
      ]
    },
    {
      "cell_type": "code",
      "metadata": {
        "id": "FD01O8lqK7AE"
      },
      "source": [
        "df_train.shape"
      ],
      "execution_count": null,
      "outputs": []
    },
    {
      "cell_type": "code",
      "metadata": {
        "id": "C8Cko19uK_eA"
      },
      "source": [
        "df_train.dtypes"
      ],
      "execution_count": null,
      "outputs": []
    },
    {
      "cell_type": "code",
      "metadata": {
        "id": "nb2TxopULBi_"
      },
      "source": [
        "df_train.nunique()"
      ],
      "execution_count": null,
      "outputs": []
    },
    {
      "cell_type": "markdown",
      "metadata": {
        "id": "cPo4CsbuLFPD"
      },
      "source": [
        "explain about the satisfaction is boolean stuff\n"
      ]
    },
    {
      "cell_type": "code",
      "metadata": {
        "id": "6Fst-HpALF8d"
      },
      "source": [
        "df_train.isnull()\n",
        "df_train.isnull().sum()"
      ],
      "execution_count": null,
      "outputs": []
    },
    {
      "cell_type": "markdown",
      "metadata": {
        "id": "EDp2BeG-LJx2"
      },
      "source": [
        "explain about there is no missing value for this train set\n"
      ]
    },
    {
      "cell_type": "code",
      "metadata": {
        "id": "AGdQ2xjNLMW1"
      },
      "source": [
        "sns.displot(data=df_train, x='satisfaction')"
      ],
      "execution_count": null,
      "outputs": []
    },
    {
      "cell_type": "markdown",
      "metadata": {
        "id": "cJ8U6zfALM23"
      },
      "source": [
        "explain about the displot of the this datatype"
      ]
    },
    {
      "cell_type": "code",
      "metadata": {
        "id": "1Utb67ZuLUCi"
      },
      "source": [
        "df_train.corrwith(df_train['satisfaction']).drop('satisfaction').sort_values()"
      ],
      "execution_count": null,
      "outputs": []
    },
    {
      "cell_type": "markdown",
      "metadata": {
        "id": "p0ojTIy9LUaF"
      },
      "source": [
        "Online boarding is most strongly correlated with satisfaction, and Arrival Delay in Minutes has a strong inverse relationship with satisfaction."
      ]
    },
    {
      "cell_type": "code",
      "metadata": {
        "id": "Mto8cgl4LjJi"
      },
      "source": [
        "_, ax = plt.subplots(figsize=(20,20))\n",
        "sns.heatmap(data=correlation_matrix, annot=True, ax=ax);\n",
        "\n",
        "correlation_matrix = df_train.drop(columns=['satisfaction']).corr().round(2)"
      ],
      "execution_count": null,
      "outputs": []
    },
    {
      "cell_type": "markdown",
      "metadata": {
        "id": "JE9rrEU9Lkht"
      },
      "source": [
        "explain about the heatmap of this model"
      ]
    },
    {
      "cell_type": "code",
      "metadata": {
        "colab": {
          "base_uri": "https://localhost:8080/",
          "height": 166
        },
        "id": "cdiarg1dMdTM",
        "outputId": "33f5bae6-e9cc-43b2-e7d1-334388c5ab0c"
      },
      "source": [
        "df_train['satisfaction'].value_counts()"
      ],
      "execution_count": null,
      "outputs": [
        {
          "output_type": "error",
          "ename": "NameError",
          "evalue": "ignored",
          "traceback": [
            "\u001b[0;31m---------------------------------------------------------------------------\u001b[0m",
            "\u001b[0;31mNameError\u001b[0m                                 Traceback (most recent call last)",
            "\u001b[0;32m<ipython-input-1-9b76d6962477>\u001b[0m in \u001b[0;36m<module>\u001b[0;34m()\u001b[0m\n\u001b[0;32m----> 1\u001b[0;31m \u001b[0mdf_train\u001b[0m\u001b[0;34m[\u001b[0m\u001b[0;34m'satisfaction'\u001b[0m\u001b[0;34m]\u001b[0m\u001b[0;34m.\u001b[0m\u001b[0mvalue_counts\u001b[0m\u001b[0;34m(\u001b[0m\u001b[0;34m)\u001b[0m\u001b[0;34m\u001b[0m\u001b[0;34m\u001b[0m\u001b[0m\n\u001b[0m",
            "\u001b[0;31mNameError\u001b[0m: name 'df_train' is not defined"
          ]
        }
      ]
    }
  ]
}